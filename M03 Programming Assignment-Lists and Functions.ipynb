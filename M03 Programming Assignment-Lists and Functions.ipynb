{
 "cells": [
  {
   "cell_type": "code",
   "execution_count": 20,
   "id": "e0647a0e",
   "metadata": {},
   "outputs": [
    {
     "name": "stdout",
     "output_type": "stream",
     "text": [
      "['mozzarella', 'cinderella', 'salmonella']\n",
      "['mozzarella', 'Cinderella', 'salmonella']\n",
      "['MOZZARELLA', 'Cinderella', 'salmonella']\n",
      "['MOZZARELLA', 'Cinderella']\n",
      "<generator object get_odds at 0x000001F0EEC75040>\n",
      "5\n"
     ]
    }
   ],
   "source": [
    "# Max Mattern\n",
    "# M03 Programming Assignment-Lists and Functions\n",
    "# SDEV220 Fall 2022\n",
    "# 11/14/22\n",
    "\n",
    "# 7.4: Make a list called things with these string elements: \"mozzarella\", \"cinderella\", \"salmonella\".\n",
    "things = ['mozzarella','cinderella','salmonella']\n",
    "print(things)\n",
    "\n",
    "# 7.5: Capitalize the elment in things that referes to a person and then print the list. Did it change the element in the list?\n",
    "things[1] = 'Cinderella'\n",
    "print(things)\n",
    "\n",
    "# 7.6: Make the cheesy element of things all uppercase and then print the list.\n",
    "things[0] = 'MOZZARELLA'\n",
    "print(things)\n",
    "\n",
    "# 7.7: Delete the disease element from things, collect your Nobel Prize, and print the list.\n",
    "things.pop(2)\n",
    "print(things)\n",
    "\n",
    "# 9.1: Define a function called good() that returns the following list: ['Harry','Ron', 'Hermione'].\n",
    "def good():\n",
    "    list = ['Harry','Ron','Hermione']\n",
    "    return list\n",
    "\n",
    "good()\n",
    "\n",
    "# 9.2: Define a generator function called 'get_odds()' that returns the odd numbers from range[10]. use a for loop to find\n",
    "#      and print the third value returned.\n",
    "\n",
    "def get_odds():\n",
    "    for num in range(1, 10, 2):\n",
    "        yield num\n",
    "\n",
    "print(get_odds())\n",
    "\n",
    "step = 1\n",
    "for num in get_odds():\n",
    "    if step == 3:\n",
    "        print(num)\n",
    "        break\n",
    "    step += 1\n",
    "\n",
    "        "
   ]
  },
  {
   "cell_type": "code",
   "execution_count": null,
   "id": "505778d6",
   "metadata": {},
   "outputs": [],
   "source": []
  }
 ],
 "metadata": {
  "kernelspec": {
   "display_name": "Python 3 (ipykernel)",
   "language": "python",
   "name": "python3"
  },
  "language_info": {
   "codemirror_mode": {
    "name": "ipython",
    "version": 3
   },
   "file_extension": ".py",
   "mimetype": "text/x-python",
   "name": "python",
   "nbconvert_exporter": "python",
   "pygments_lexer": "ipython3",
   "version": "3.9.13"
  }
 },
 "nbformat": 4,
 "nbformat_minor": 5
}
